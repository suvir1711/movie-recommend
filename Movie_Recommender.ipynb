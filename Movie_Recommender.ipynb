{
 "cells": [
  {
   "cell_type": "code",
   "execution_count": 13,
   "metadata": {},
   "outputs": [],
   "source": [
    "#import dependencies\n",
    "import pandas as pd\n",
    "#read datasets into dataframe\n",
    "df_cred = pd.read_csv(\"/Users/suvirsingh/Downloads/movies_dataset/tmdb_5000_credits.csv\")\n",
    "df_mov = pd.read_csv(\"/Users/suvirsingh/Downloads/movies_dataset/tmdb_5000_movies.csv\")"
   ]
  },
  {
   "cell_type": "code",
   "execution_count": 14,
   "metadata": {},
   "outputs": [
    {
     "data": {
      "text/plain": [
       "((4803, 4), (4803, 20))"
      ]
     },
     "execution_count": 14,
     "metadata": {},
     "output_type": "execute_result"
    }
   ],
   "source": [
    "#see the size of datasets\n",
    "df_cred.shape, df_mov.shape"
   ]
  },
  {
   "cell_type": "code",
   "execution_count": 15,
   "metadata": {},
   "outputs": [
    {
     "data": {
      "text/plain": [
       "0"
      ]
     },
     "execution_count": 15,
     "metadata": {},
     "output_type": "execute_result"
    }
   ],
   "source": [
    "#check if movie id columns differ or not\n",
    "(df_cred.movie_id != df_mov.id).any().sum()\n"
   ]
  },
  {
   "cell_type": "code",
   "execution_count": 16,
   "metadata": {},
   "outputs": [],
   "source": [
    "#rename column name\n",
    "df_cred.rename(columns = {'movie_id':'id'}, inplace = True)"
   ]
  },
  {
   "cell_type": "code",
   "execution_count": 17,
   "metadata": {},
   "outputs": [],
   "source": [
    "#merge both dataframes and store in a separate dataframe\n",
    "movie_db = df_cred.merge(df_mov, on='id')\n"
   ]
  },
  {
   "cell_type": "code",
   "execution_count": 18,
   "metadata": {},
   "outputs": [
    {
     "name": "stdout",
     "output_type": "stream",
     "text": [
      "<class 'pandas.core.frame.DataFrame'>\n",
      "RangeIndex: 4803 entries, 0 to 4802\n",
      "Data columns (total 23 columns):\n",
      " #   Column                Non-Null Count  Dtype  \n",
      "---  ------                --------------  -----  \n",
      " 0   id                    4803 non-null   int64  \n",
      " 1   title_x               4803 non-null   object \n",
      " 2   cast                  4803 non-null   object \n",
      " 3   crew                  4803 non-null   object \n",
      " 4   budget                4803 non-null   int64  \n",
      " 5   genres                4803 non-null   object \n",
      " 6   homepage              1712 non-null   object \n",
      " 7   keywords              4803 non-null   object \n",
      " 8   original_language     4803 non-null   object \n",
      " 9   original_title        4803 non-null   object \n",
      " 10  overview              4800 non-null   object \n",
      " 11  popularity            4803 non-null   float64\n",
      " 12  production_companies  4803 non-null   object \n",
      " 13  production_countries  4803 non-null   object \n",
      " 14  release_date          4802 non-null   object \n",
      " 15  revenue               4803 non-null   int64  \n",
      " 16  runtime               4801 non-null   float64\n",
      " 17  spoken_languages      4803 non-null   object \n",
      " 18  status                4803 non-null   object \n",
      " 19  tagline               3959 non-null   object \n",
      " 20  title_y               4803 non-null   object \n",
      " 21  vote_average          4803 non-null   float64\n",
      " 22  vote_count            4803 non-null   int64  \n",
      "dtypes: float64(3), int64(4), object(16)\n",
      "memory usage: 863.2+ KB\n"
     ]
    }
   ],
   "source": [
    "#relevant information about our merged dataframe\n",
    "movie_db.info()"
   ]
  },
  {
   "cell_type": "code",
   "execution_count": 19,
   "metadata": {},
   "outputs": [
    {
     "name": "stdout",
     "output_type": "stream",
     "text": [
      "<class 'pandas.core.frame.DataFrame'>\n",
      "Index: 4800 entries, 0 to 4802\n",
      "Data columns (total 6 columns):\n",
      " #   Column    Non-Null Count  Dtype \n",
      "---  ------    --------------  ----- \n",
      " 0   id        4800 non-null   int64 \n",
      " 1   title_x   4800 non-null   object\n",
      " 2   genres    4800 non-null   object\n",
      " 3   overview  4800 non-null   object\n",
      " 4   cast      4800 non-null   object\n",
      " 5   crew      4800 non-null   object\n",
      "dtypes: int64(1), object(5)\n",
      "memory usage: 262.5+ KB\n"
     ]
    }
   ],
   "source": [
    "#dataset preprocessing\n",
    "\n",
    "#drop null values\n",
    "movie_db.dropna(subset = ['overview'], inplace= True )\n",
    "\n",
    "#filter out target columns\n",
    "movie_db = movie_db[['id','title_x','genres','overview','cast','crew']]\n",
    "\n",
    "#check information\n",
    "movie_db.info()\n"
   ]
  },
  {
   "cell_type": "code",
   "execution_count": 20,
   "metadata": {},
   "outputs": [
    {
     "data": {
      "text/plain": [
       "'Action Adventure Fantasy Science Fiction'"
      ]
     },
     "execution_count": 20,
     "metadata": {},
     "output_type": "execute_result"
    }
   ],
   "source": [
    "#Generation of corpus\n",
    "movie_db.genres[0]\n",
    "' '.join([i['name'] for i in eval(movie_db.genres[0])])"
   ]
  },
  {
   "cell_type": "code",
   "execution_count": 21,
   "metadata": {},
   "outputs": [
    {
     "data": {
      "text/plain": [
       "'Sam Worthington Zoe Saldana Sigourney Weaver'"
      ]
     },
     "execution_count": 21,
     "metadata": {},
     "output_type": "execute_result"
    }
   ],
   "source": [
    "# taking top 3 cast\n",
    "' '.join([i['name'] for i in eval(movie_db.cast[0])[:3]])"
   ]
  },
  {
   "cell_type": "code",
   "execution_count": 22,
   "metadata": {},
   "outputs": [
    {
     "data": {
      "text/plain": [
       "'Jon Landau James Cameron'"
      ]
     },
     "execution_count": 22,
     "metadata": {},
     "output_type": "execute_result"
    }
   ],
   "source": [
    "# taking crew (director & producer)\n",
    "' '.join(list(set([i['name'] for i in eval(movie_db.crew[0]) if i['job']=='Director' or i['job']=='Producer'])))"
   ]
  },
  {
   "cell_type": "code",
   "execution_count": 23,
   "metadata": {},
   "outputs": [],
   "source": [
    "# define function to generate corpus\n",
    "def generate_corpus(overview, genre, cast, crew):\n",
    "    \n",
    "    corpus = \"\"\n",
    "    \n",
    "    genre = ' '.join([i['name'] for i in eval(genre)])\n",
    "    \n",
    "    cast = ' '.join([i['name'] for i in eval(cast)[:3]])\n",
    "       \n",
    "    crew = ' '.join(list(set([i['name'] for i in eval(crew) if i['job']=='Director' or i['job']=='Producer'])))\n",
    "    \n",
    "    corpus+= overview + \" \" + genre + \" \" + cast + \" \" + crew\n",
    "    \n",
    "    return corpus\n",
    "\n",
    "corpus = []\n",
    "for i in range(len(movie_db)):\n",
    "    corpus.append(generate_corpus(movie_db.iloc[i].overview, movie_db.iloc[i].genres, movie_db.iloc[i].cast, movie_db.iloc[i].crew))\n",
    "\n"
   ]
  },
  {
   "cell_type": "code",
   "execution_count": 24,
   "metadata": {},
   "outputs": [
    {
     "data": {
      "text/plain": [
       "4800"
      ]
     },
     "execution_count": 24,
     "metadata": {},
     "output_type": "execute_result"
    }
   ],
   "source": [
    "len(corpus)"
   ]
  },
  {
   "cell_type": "code",
   "execution_count": 25,
   "metadata": {},
   "outputs": [
    {
     "data": {
      "text/plain": [
       "'In the 22nd century, a paraplegic Marine is dispatched to the moon Pandora on a unique mission, but becomes torn between following orders and protecting an alien civilization. Action Adventure Fantasy Science Fiction Sam Worthington Zoe Saldana Sigourney Weaver Jon Landau James Cameron'"
      ]
     },
     "execution_count": 25,
     "metadata": {},
     "output_type": "execute_result"
    }
   ],
   "source": [
    "# check the corpus\n",
    "corpus[0]"
   ]
  },
  {
   "cell_type": "code",
   "execution_count": 26,
   "metadata": {},
   "outputs": [],
   "source": [
    "# rename the column\n",
    "movie_db.rename(columns = {'title_x':'title'}, inplace = True)\n",
    "\n",
    "# drop old columns\n",
    "movie_db.drop(columns=['genres', 'overview', 'cast', 'crew'], inplace=True)\n",
    "\n",
    "# add corpus\n",
    "movie_db['corpus'] = corpus"
   ]
  },
  {
   "cell_type": "code",
   "execution_count": 27,
   "metadata": {},
   "outputs": [],
   "source": [
    "# import deps\n",
    "from sklearn.feature_extraction.text import TfidfVectorizer\n",
    "\n",
    "# Initialize the Object and remove stopwords\n",
    "tfidf = TfidfVectorizer(stop_words='english')\n",
    "tfidf_matrix = tfidf.fit_transform(movie_db['corpus'])\n"
   ]
  },
  {
   "cell_type": "code",
   "execution_count": 28,
   "metadata": {},
   "outputs": [
    {
     "data": {
      "text/plain": [
       "(4800, 3)"
      ]
     },
     "execution_count": 28,
     "metadata": {},
     "output_type": "execute_result"
    }
   ],
   "source": [
    "movie_db.shape"
   ]
  },
  {
   "cell_type": "code",
   "execution_count": 29,
   "metadata": {},
   "outputs": [
    {
     "data": {
      "text/plain": [
       "(4800, 29102)"
      ]
     },
     "execution_count": 29,
     "metadata": {},
     "output_type": "execute_result"
    }
   ],
   "source": [
    "tfidf_matrix.shape"
   ]
  },
  {
   "cell_type": "code",
   "execution_count": 30,
   "metadata": {},
   "outputs": [
    {
     "data": {
      "text/plain": [
       "(4800, 4800)"
      ]
     },
     "execution_count": 30,
     "metadata": {},
     "output_type": "execute_result"
    }
   ],
   "source": [
    "# import deps\n",
    "from sklearn.metrics.pairwise import linear_kernel\n",
    "\n",
    "# compute the similarity matirx\n",
    "cos_mat = linear_kernel(tfidf_matrix, tfidf_matrix)\n",
    "\n",
    "cos_mat.shape"
   ]
  },
  {
   "cell_type": "code",
   "execution_count": 31,
   "metadata": {},
   "outputs": [],
   "source": [
    "#define function for movie recommendation fetching\n",
    "\n",
    "def get_recommendations(movie, n):\n",
    "    \n",
    "    # get index from dataframe\n",
    "    index = movie_db[movie_db['title']== movie].index[0]\n",
    "    \n",
    "    # sort top n similar movies     \n",
    "    similar_movies = sorted(list(enumerate(cos_mat[index])), reverse=True, key=lambda x: x[1]) \n",
    "    \n",
    "    # extract names from dataframe and return movie names\n",
    "    recomm = []\n",
    "    for i in similar_movies[1:n+1]:\n",
    "        recomm.append(movie_db.iloc[i[0]].title)\n",
    "        \n",
    "    return recomm"
   ]
  },
  {
   "cell_type": "code",
   "execution_count": 32,
   "metadata": {},
   "outputs": [
    {
     "data": {
      "text/plain": [
       "['The Dark Knight Rises', 'Batman Begins', 'Batman Returns']"
      ]
     },
     "execution_count": 32,
     "metadata": {},
     "output_type": "execute_result"
    }
   ],
   "source": [
    "#test the function\n",
    "get_recommendations(\"The Dark Knight\", 3)"
   ]
  },
  {
   "cell_type": "code",
   "execution_count": 33,
   "metadata": {},
   "outputs": [
    {
     "data": {
      "text/plain": [
       "['Mission: Impossible III', 'Mission: Impossible II', 'Vanilla Sky']"
      ]
     },
     "execution_count": 33,
     "metadata": {},
     "output_type": "execute_result"
    }
   ],
   "source": [
    "get_recommendations(\"Mission: Impossible\", 3)"
   ]
  },
  {
   "cell_type": "code",
   "execution_count": 34,
   "metadata": {},
   "outputs": [],
   "source": [
    "#Define function for recommendations based on keywords\n",
    "import sklearn\n",
    "from sklearn.metrics.pairwise import cosine_similarity\n",
    "def get_keywords_recommendations(keywords, n):    \n",
    "    \n",
    "    keywords = keywords.split()\n",
    "    keywords = \" \".join(keywords)\n",
    "    \n",
    "    # transform the string to vector representation\n",
    "    key_tfidf = tfidf.transform([keywords]) \n",
    "    \n",
    "    # compute cosine similarity    \n",
    "    result = sklearn.metrics.pairwise.cosine_similarity(key_tfidf, tfidf_matrix)\n",
    "    \n",
    "    # sort top n similar movies   \n",
    "    similar_key_movies = sorted(list(enumerate(result[0])), reverse=True, key=lambda x: x[1])\n",
    "    \n",
    "    # extract names from dataframe and return movie names\n",
    "    recomm = []\n",
    "    for i in similar_key_movies[1:n+1]:\n",
    "        recomm.append(movie_db.iloc[i[0]].title)\n",
    "        \n",
    "    return recomm"
   ]
  },
  {
   "cell_type": "code",
   "execution_count": 35,
   "metadata": {},
   "outputs": [
    {
     "data": {
      "text/plain": [
       "['Insomnia', 'Man of Steel', 'Batman Begins', 'Interstellar']"
      ]
     },
     "execution_count": 35,
     "metadata": {},
     "output_type": "execute_result"
    }
   ],
   "source": [
    "#test function\n",
    "get_keywords_recommendations(\"Christopher Nolan\", 4)"
   ]
  },
  {
   "cell_type": "code",
   "execution_count": 36,
   "metadata": {},
   "outputs": [
    {
     "data": {
      "text/plain": [
       "['models/tfidf_mat.tf']"
      ]
     },
     "execution_count": 36,
     "metadata": {},
     "output_type": "execute_result"
    }
   ],
   "source": [
    "import joblib\n",
    "\n",
    "joblib.dump(movie_db, 'models/movie_db.df')\n",
    "joblib.dump(cos_mat, 'models/cos_mat.mt')\n",
    "joblib.dump(tfidf, 'models/vectorizer.tf')\n",
    "joblib.dump(tfidf_matrix, 'models/tfidf_mat.tf')"
   ]
  },
  {
   "cell_type": "code",
   "execution_count": 37,
   "metadata": {},
   "outputs": [
    {
     "data": {
      "text/plain": [
       "['American Psycho', 'Saved!', 'The Prestige', 'American Hustle']"
      ]
     },
     "execution_count": 37,
     "metadata": {},
     "output_type": "execute_result"
    }
   ],
   "source": [
    "get_keywords_recommendations(\"Christian Bale\", 4)"
   ]
  }
 ],
 "metadata": {
  "kernelspec": {
   "display_name": "Python 3",
   "language": "python",
   "name": "python3"
  },
  "language_info": {
   "codemirror_mode": {
    "name": "ipython",
    "version": 3
   },
   "file_extension": ".py",
   "mimetype": "text/x-python",
   "name": "python",
   "nbconvert_exporter": "python",
   "pygments_lexer": "ipython3",
   "version": "3.11.5"
  }
 },
 "nbformat": 4,
 "nbformat_minor": 2
}
